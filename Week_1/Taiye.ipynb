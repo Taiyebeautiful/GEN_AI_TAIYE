{
 "cells": [
  {
   "cell_type": "code",
   "execution_count": null,
   "id": "4056a648",
   "metadata": {
    "vscode": {
     "languageId": "plaintext"
    }
   },
   "outputs": [],
   "source": []
  },
  {
   "cell_type": "markdown",
   "id": "7b0d26e0",
   "metadata": {},
   "source": []
  }
 ],
 "metadata": {
  "language_info": {
   "name": "python"
  }
 },
 "nbformat": 4,
 "nbformat_minor": 5
}
